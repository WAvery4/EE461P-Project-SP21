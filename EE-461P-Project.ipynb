{
 "cells": [
  {
   "cell_type": "markdown",
   "metadata": {},
   "source": [
    "# Detecting pneumonia using chest x-rays\n",
    "\n",
    "### To Do List\n",
    "\n",
    "#### Research:\n",
    "* CNNs\n",
    "    * How do they work?\n",
    "    * Idea of transfer learning\n",
    "* Unique CNN implementations: AlexNet, CapsNet, GNN\n",
    "    * What is unique about each of these implementations?\n",
    "    \n",
    "#### Implementation:\n",
    "* Basic CNNs (PyTorch, tensorflow, keras)\n",
    "* Transfer learning example\n",
    "* Unique CNN implementations\n",
    "\n",
    "#### Blog:\n",
    "* Choosing a service (Medium, ...)"
   ]
  },
  {
   "cell_type": "markdown",
   "metadata": {},
   "source": [
    "## Research"
   ]
  },
  {
   "cell_type": "markdown",
   "metadata": {},
   "source": [
    "#### Convolutional Neural Networks (CNNs)\n",
    "\n",
    "CNNs are used for classifaction and computer vision. They are made up of three types of layers: convolutional, pooling, and fully-connected (FC). The first layer is a convolutional layer, and the last layer is the only fully-connected layer. The layers in between may be a mix of convolutional and pooling layers [1]. \n",
    "\n",
    "##### Convolutional Layers [1]\n",
    "Convolutiuonal layers have an input, a filter (AKA kernel or feature detector), and a feature map. The feature detector is typically a 2D array of weights, which is applied to a subsection of the input. The dot product between this subsection and the kernel is then calculated. The filter then shifts by a stride, and performs the dot product operation once more, repeating this process until it has covered the entire input. The resulting array of outputs is called the feature map.\n",
    "\n",
    "Some hyperparameters that can be adjusted in the convolutional layer are number of filters, stride, and zero padding. Number of filters affects the depth of the feature map (e.g. three filters results in a depth three feature map). Stride is the number of pixels the kernel moves after each dot product calculation. Zero padding refers to the amount of padding added to an input (eg. an image) to ensure that the filter fits the image.\n",
    "\n",
    "After each convolution, the CNN applies a ReLU to introduce nonlinearities into the network, ensuring that the model is a universal approximator.\n",
    "\n",
    "##### Pooling Layers [1]\n",
    "Similar to a convolutional layer, except the filter does not use weights. Instead it implements a specific type of pooling: max pooling or average pooling. Max pooling is when the filter selects the pixel of maximum value to send to the output array. Average pooling is when the filter calculates the average value in the receptive field (the values that the filter can see).\n",
    "\n",
    "More information is lost in pooling layers, but they \"reduce complexity, improve efficiency, and limit risk of overfitting\".\n",
    "\n",
    "##### Fully-Connected Layer [1]\n",
    "Usually uses a softmax activation function to make the final classification prediction."
   ]
  },
  {
   "cell_type": "markdown",
   "metadata": {},
   "source": [
    "#### References\n",
    "\n",
    "[1] https://www.ibm.com/cloud/learn/convolutional-neural-networks"
   ]
  },
  {
   "cell_type": "markdown",
   "metadata": {},
   "source": [
    "## Implementation"
   ]
  },
  {
   "cell_type": "code",
   "execution_count": null,
   "metadata": {},
   "outputs": [],
   "source": []
  }
 ],
 "metadata": {
  "kernelspec": {
   "display_name": "Python 3",
   "language": "python",
   "name": "python3"
  },
  "language_info": {
   "codemirror_mode": {
    "name": "ipython",
    "version": 3
   },
   "file_extension": ".py",
   "mimetype": "text/x-python",
   "name": "python",
   "nbconvert_exporter": "python",
   "pygments_lexer": "ipython3",
   "version": "3.7.3"
  }
 },
 "nbformat": 4,
 "nbformat_minor": 2
}
