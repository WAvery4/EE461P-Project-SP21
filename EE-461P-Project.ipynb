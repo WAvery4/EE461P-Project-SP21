{
 "cells": [
  {
   "cell_type": "markdown",
   "metadata": {},
   "source": [
    "# Detecting pneumonia using chest x-rays\n",
    "\n",
    "### To Do List\n",
    "\n",
    "#### Research:\n",
    "* CNNs\n",
    "    * How do they work?\n",
    "    * Idea of transfer learning\n",
    "* Unique CNN implementations: AlexNet, CapsNet, GNN\n",
    "    * What is unique about each of these implementations?\n",
    "    \n",
    "#### Implementation:\n",
    "* Basic CNNs (PyTorch, tensorflow, keras)\n",
    "* Transfer learning example\n",
    "* Unique CNN implementations\n",
    "\n",
    "#### Blog:\n",
    "* Choosing a service (Medium, ...)"
   ]
  },
  {
   "cell_type": "markdown",
   "metadata": {},
   "source": [
    "## Research"
   ]
  },
  {
   "cell_type": "code",
   "execution_count": null,
   "metadata": {},
   "outputs": [],
   "source": []
  },
  {
   "cell_type": "markdown",
   "metadata": {},
   "source": [
    "## Implementation"
   ]
  },
  {
   "cell_type": "code",
   "execution_count": null,
   "metadata": {},
   "outputs": [],
   "source": []
  }
 ],
 "metadata": {
  "kernelspec": {
   "display_name": "Python 3",
   "language": "python",
   "name": "python3"
  },
  "language_info": {
   "codemirror_mode": {
    "name": "ipython",
    "version": 3
   },
   "file_extension": ".py",
   "mimetype": "text/x-python",
   "name": "python",
   "nbconvert_exporter": "python",
   "pygments_lexer": "ipython3",
   "version": "3.7.3"
  }
 },
 "nbformat": 4,
 "nbformat_minor": 2
}
